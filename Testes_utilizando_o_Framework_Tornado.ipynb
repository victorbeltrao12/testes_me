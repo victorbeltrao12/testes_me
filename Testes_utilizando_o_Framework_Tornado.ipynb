{
  "nbformat": 4,
  "nbformat_minor": 0,
  "metadata": {
    "colab": {
      "name": "Testes utilizando o Framework Tornado",
      "provenance": [],
      "authorship_tag": "ABX9TyM9kl5yuHZULvGJHPcOOwdY",
      "include_colab_link": true
    },
    "kernelspec": {
      "name": "python3",
      "display_name": "Python 3"
    },
    "language_info": {
      "name": "python"
    }
  },
  "cells": [
    {
      "cell_type": "markdown",
      "metadata": {
        "id": "view-in-github",
        "colab_type": "text"
      },
      "source": [
        "<a href=\"https://colab.research.google.com/github/victorbeltrao12/testes_me/blob/main/Testes_utilizando_o_Framework_Tornado.ipynb\" target=\"_parent\"><img src=\"https://colab.research.google.com/assets/colab-badge.svg\" alt=\"Open In Colab\"/></a>"
      ]
    },
    {
      "cell_type": "code",
      "source": [
        ""
      ],
      "metadata": {
        "id": "Nx38FZR6S6_O"
      },
      "execution_count": null,
      "outputs": []
    },
    {
      "cell_type": "code",
      "source": [
        ""
      ],
      "metadata": {
        "id": "DTRzsHPfS68m"
      },
      "execution_count": null,
      "outputs": []
    }
  ]
}